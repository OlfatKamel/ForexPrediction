{
 "cells": [
  {
   "cell_type": "markdown",
   "metadata": {},
   "source": [
    "# import libraries"
   ]
  },
  {
   "cell_type": "code",
   "execution_count": 31,
   "metadata": {},
   "outputs": [],
   "source": [
    "import numpy as np\n",
    "import pandas as pd\n",
    "from sklearn.linear_model import LinearRegression\n",
    "from sklearn.svm import SVR\n",
    "from sklearn.model_selection import train_test_split\n",
    "import matplotlib.pyplot as plt\n",
    "%matplotlib inline\n",
    "plt.style.use('fivethirtyeight')\n"
   ]
  },
  {
   "cell_type": "markdown",
   "metadata": {},
   "source": [
    "# load dataset\n"
   ]
  },
  {
   "cell_type": "code",
   "execution_count": 32,
   "metadata": {},
   "outputs": [],
   "source": [
    "df=pd.read_csv('dataset/forex.csv', index_col=[0], parse_dates=[0])\n"
   ]
  },
  {
   "cell_type": "markdown",
   "metadata": {},
   "source": [
    "# exploring data\n"
   ]
  },
  {
   "cell_type": "code",
   "execution_count": 33,
   "metadata": {},
   "outputs": [
    {
     "data": {
      "text/plain": [
       "(245444, 5)"
      ]
     },
     "execution_count": 33,
     "metadata": {},
     "output_type": "execute_result"
    }
   ],
   "source": [
    "df.shape\n"
   ]
  },
  {
   "cell_type": "code",
   "execution_count": 34,
   "metadata": {},
   "outputs": [
    {
     "data": {
      "text/html": [
       "<div>\n",
       "<style scoped>\n",
       "    .dataframe tbody tr th:only-of-type {\n",
       "        vertical-align: middle;\n",
       "    }\n",
       "\n",
       "    .dataframe tbody tr th {\n",
       "        vertical-align: top;\n",
       "    }\n",
       "\n",
       "    .dataframe thead th {\n",
       "        text-align: right;\n",
       "    }\n",
       "</style>\n",
       "<table border=\"1\" class=\"dataframe\">\n",
       "  <thead>\n",
       "    <tr style=\"text-align: right;\">\n",
       "      <th></th>\n",
       "      <th>Open</th>\n",
       "      <th>High</th>\n",
       "      <th>Low</th>\n",
       "      <th>Close</th>\n",
       "      <th>Volume</th>\n",
       "    </tr>\n",
       "    <tr>\n",
       "      <th>Time</th>\n",
       "      <th></th>\n",
       "      <th></th>\n",
       "      <th></th>\n",
       "      <th></th>\n",
       "      <th></th>\n",
       "    </tr>\n",
       "  </thead>\n",
       "  <tbody>\n",
       "    <tr>\n",
       "      <th>2014-03-12 19:15:00</th>\n",
       "      <td>1.39036</td>\n",
       "      <td>1.39080</td>\n",
       "      <td>1.39034</td>\n",
       "      <td>1.39074</td>\n",
       "      <td>5.609300e+08</td>\n",
       "    </tr>\n",
       "    <tr>\n",
       "      <th>2010-09-02 21:15:00</th>\n",
       "      <td>1.28028</td>\n",
       "      <td>1.28058</td>\n",
       "      <td>1.28001</td>\n",
       "      <td>1.28042</td>\n",
       "      <td>4.266000e+08</td>\n",
       "    </tr>\n",
       "    <tr>\n",
       "      <th>2016-08-17 23:00:00</th>\n",
       "      <td>1.12759</td>\n",
       "      <td>1.12792</td>\n",
       "      <td>1.12734</td>\n",
       "      <td>1.12792</td>\n",
       "      <td>4.430320e+09</td>\n",
       "    </tr>\n",
       "    <tr>\n",
       "      <th>2015-04-17 01:45:00</th>\n",
       "      <td>1.07040</td>\n",
       "      <td>1.07040</td>\n",
       "      <td>1.06935</td>\n",
       "      <td>1.06962</td>\n",
       "      <td>1.566710e+09</td>\n",
       "    </tr>\n",
       "    <tr>\n",
       "      <th>2016-02-15 10:30:00</th>\n",
       "      <td>1.11997</td>\n",
       "      <td>1.12044</td>\n",
       "      <td>1.11990</td>\n",
       "      <td>1.12024</td>\n",
       "      <td>2.845420e+09</td>\n",
       "    </tr>\n",
       "    <tr>\n",
       "      <th>2011-12-14 15:15:00</th>\n",
       "      <td>1.29778</td>\n",
       "      <td>1.29852</td>\n",
       "      <td>1.29711</td>\n",
       "      <td>1.29825</td>\n",
       "      <td>5.270490e+09</td>\n",
       "    </tr>\n",
       "    <tr>\n",
       "      <th>2014-04-25 12:45:00</th>\n",
       "      <td>1.38056</td>\n",
       "      <td>1.38214</td>\n",
       "      <td>1.38056</td>\n",
       "      <td>1.38148</td>\n",
       "      <td>5.333490e+09</td>\n",
       "    </tr>\n",
       "    <tr>\n",
       "      <th>2012-01-05 15:15:00</th>\n",
       "      <td>1.28112</td>\n",
       "      <td>1.28146</td>\n",
       "      <td>1.28032</td>\n",
       "      <td>1.28089</td>\n",
       "      <td>4.923040e+09</td>\n",
       "    </tr>\n",
       "    <tr>\n",
       "      <th>2011-07-28 19:00:00</th>\n",
       "      <td>1.43730</td>\n",
       "      <td>1.43732</td>\n",
       "      <td>1.43563</td>\n",
       "      <td>1.43583</td>\n",
       "      <td>1.392450e+09</td>\n",
       "    </tr>\n",
       "    <tr>\n",
       "      <th>2016-11-17 17:00:00</th>\n",
       "      <td>1.06556</td>\n",
       "      <td>1.06566</td>\n",
       "      <td>1.06537</td>\n",
       "      <td>1.06557</td>\n",
       "      <td>1.706800e+09</td>\n",
       "    </tr>\n",
       "  </tbody>\n",
       "</table>\n",
       "</div>"
      ],
      "text/plain": [
       "                        Open     High      Low    Close        Volume\n",
       "Time                                                                 \n",
       "2014-03-12 19:15:00  1.39036  1.39080  1.39034  1.39074  5.609300e+08\n",
       "2010-09-02 21:15:00  1.28028  1.28058  1.28001  1.28042  4.266000e+08\n",
       "2016-08-17 23:00:00  1.12759  1.12792  1.12734  1.12792  4.430320e+09\n",
       "2015-04-17 01:45:00  1.07040  1.07040  1.06935  1.06962  1.566710e+09\n",
       "2016-02-15 10:30:00  1.11997  1.12044  1.11990  1.12024  2.845420e+09\n",
       "2011-12-14 15:15:00  1.29778  1.29852  1.29711  1.29825  5.270490e+09\n",
       "2014-04-25 12:45:00  1.38056  1.38214  1.38056  1.38148  5.333490e+09\n",
       "2012-01-05 15:15:00  1.28112  1.28146  1.28032  1.28089  4.923040e+09\n",
       "2011-07-28 19:00:00  1.43730  1.43732  1.43563  1.43583  1.392450e+09\n",
       "2016-11-17 17:00:00  1.06556  1.06566  1.06537  1.06557  1.706800e+09"
      ]
     },
     "execution_count": 34,
     "metadata": {},
     "output_type": "execute_result"
    }
   ],
   "source": [
    "df.sample(10)"
   ]
  },
  {
   "cell_type": "code",
   "execution_count": 5,
   "metadata": {},
   "outputs": [
    {
     "data": {
      "image/png": "[encoded data removed]",
      "text/plain": [
       "<matplotlib.figure.Figure at 0x1e69c7efda0>"
      ]
     },
     "metadata": {},
     "output_type": "display_data"
    }
   ],
   "source": [
    "# Visualize the closing price history\n",
    "plt.figure(figsize=(16,8))\n",
    "plt.title('Close Price History')\n",
    "plt.plot(df['Close'])\n",
    "plt.xlabel('Date',fontsize=18)\n",
    "plt.ylabel('Close Price USD ($)',fontsize=18)\n",
    "plt.show()"
   ]
  },
  {
   "cell_type": "code",
   "execution_count": 35,
   "metadata": {},
   "outputs": [
    {
     "data": {
      "text/html": [
       "<div>\n",
       "<style scoped>\n",
       "    .dataframe tbody tr th:only-of-type {\n",
       "        vertical-align: middle;\n",
       "    }\n",
       "\n",
       "    .dataframe tbody tr th {\n",
       "        vertical-align: top;\n",
       "    }\n",
       "\n",
       "    .dataframe thead th {\n",
       "        text-align: right;\n",
       "    }\n",
       "</style>\n",
       "<table border=\"1\" class=\"dataframe\">\n",
       "  <thead>\n",
       "    <tr style=\"text-align: right;\">\n",
       "      <th></th>\n",
       "      <th>Close</th>\n",
       "    </tr>\n",
       "    <tr>\n",
       "      <th>Time</th>\n",
       "      <th></th>\n",
       "    </tr>\n",
       "  </thead>\n",
       "  <tbody>\n",
       "    <tr>\n",
       "      <th>2010-01-01 00:00:00</th>\n",
       "      <td>1.43293</td>\n",
       "    </tr>\n",
       "    <tr>\n",
       "      <th>2010-01-01 00:15:00</th>\n",
       "      <td>1.43275</td>\n",
       "    </tr>\n",
       "    <tr>\n",
       "      <th>2010-01-01 00:30:00</th>\n",
       "      <td>1.43281</td>\n",
       "    </tr>\n",
       "    <tr>\n",
       "      <th>2010-01-01 00:45:00</th>\n",
       "      <td>1.43276</td>\n",
       "    </tr>\n",
       "    <tr>\n",
       "      <th>2010-01-01 01:00:00</th>\n",
       "      <td>1.43282</td>\n",
       "    </tr>\n",
       "  </tbody>\n",
       "</table>\n",
       "</div>"
      ],
      "text/plain": [
       "                       Close\n",
       "Time                        \n",
       "2010-01-01 00:00:00  1.43293\n",
       "2010-01-01 00:15:00  1.43275\n",
       "2010-01-01 00:30:00  1.43281\n",
       "2010-01-01 00:45:00  1.43276\n",
       "2010-01-01 01:00:00  1.43282"
      ]
     },
     "execution_count": 35,
     "metadata": {},
     "output_type": "execute_result"
    }
   ],
   "source": [
    "#Create a new dataframe with only the 'Close' column\n",
    "my_df = df.filter(['Close'])\n",
    "my_df.head()\n"
   ]
  },
  {
   "cell_type": "code",
   "execution_count": 38,
   "metadata": {},
   "outputs": [
    {
     "data": {
      "text/html": [
       "<div>\n",
       "<style scoped>\n",
       "    .dataframe tbody tr th:only-of-type {\n",
       "        vertical-align: middle;\n",
       "    }\n",
       "\n",
       "    .dataframe tbody tr th {\n",
       "        vertical-align: top;\n",
       "    }\n",
       "\n",
       "    .dataframe thead th {\n",
       "        text-align: right;\n",
       "    }\n",
       "</style>\n",
       "<table border=\"1\" class=\"dataframe\">\n",
       "  <thead>\n",
       "    <tr style=\"text-align: right;\">\n",
       "      <th></th>\n",
       "      <th>Close</th>\n",
       "      <th>Prediction</th>\n",
       "    </tr>\n",
       "    <tr>\n",
       "      <th>Time</th>\n",
       "      <th></th>\n",
       "      <th></th>\n",
       "    </tr>\n",
       "  </thead>\n",
       "  <tbody>\n",
       "    <tr>\n",
       "      <th>2016-12-31 14:00:00</th>\n",
       "      <td>1.0515</td>\n",
       "      <td>1.0515</td>\n",
       "    </tr>\n",
       "    <tr>\n",
       "      <th>2016-12-31 14:15:00</th>\n",
       "      <td>1.0515</td>\n",
       "      <td>1.0515</td>\n",
       "    </tr>\n",
       "    <tr>\n",
       "      <th>2016-12-31 14:30:00</th>\n",
       "      <td>1.0515</td>\n",
       "      <td>1.0515</td>\n",
       "    </tr>\n",
       "    <tr>\n",
       "      <th>2016-12-31 14:45:00</th>\n",
       "      <td>1.0515</td>\n",
       "      <td>1.0515</td>\n",
       "    </tr>\n",
       "    <tr>\n",
       "      <th>2016-12-31 15:00:00</th>\n",
       "      <td>1.0515</td>\n",
       "      <td>1.0515</td>\n",
       "    </tr>\n",
       "    <tr>\n",
       "      <th>2016-12-31 15:15:00</th>\n",
       "      <td>1.0515</td>\n",
       "      <td>1.0515</td>\n",
       "    </tr>\n",
       "    <tr>\n",
       "      <th>2016-12-31 15:30:00</th>\n",
       "      <td>1.0515</td>\n",
       "      <td>1.0515</td>\n",
       "    </tr>\n",
       "    <tr>\n",
       "      <th>2016-12-31 15:45:00</th>\n",
       "      <td>1.0515</td>\n",
       "      <td>1.0515</td>\n",
       "    </tr>\n",
       "    <tr>\n",
       "      <th>2016-12-31 16:00:00</th>\n",
       "      <td>1.0515</td>\n",
       "      <td>1.0515</td>\n",
       "    </tr>\n",
       "    <tr>\n",
       "      <th>2016-12-31 16:15:00</th>\n",
       "      <td>1.0515</td>\n",
       "      <td>1.0515</td>\n",
       "    </tr>\n",
       "    <tr>\n",
       "      <th>2016-12-31 16:30:00</th>\n",
       "      <td>1.0515</td>\n",
       "      <td>NaN</td>\n",
       "    </tr>\n",
       "    <tr>\n",
       "      <th>2016-12-31 16:45:00</th>\n",
       "      <td>1.0515</td>\n",
       "      <td>NaN</td>\n",
       "    </tr>\n",
       "    <tr>\n",
       "      <th>2016-12-31 17:00:00</th>\n",
       "      <td>1.0515</td>\n",
       "      <td>NaN</td>\n",
       "    </tr>\n",
       "    <tr>\n",
       "      <th>2016-12-31 17:15:00</th>\n",
       "      <td>1.0515</td>\n",
       "      <td>NaN</td>\n",
       "    </tr>\n",
       "    <tr>\n",
       "      <th>2016-12-31 17:30:00</th>\n",
       "      <td>1.0515</td>\n",
       "      <td>NaN</td>\n",
       "    </tr>\n",
       "    <tr>\n",
       "      <th>2016-12-31 17:45:00</th>\n",
       "      <td>1.0515</td>\n",
       "      <td>NaN</td>\n",
       "    </tr>\n",
       "    <tr>\n",
       "      <th>2016-12-31 18:00:00</th>\n",
       "      <td>1.0515</td>\n",
       "      <td>NaN</td>\n",
       "    </tr>\n",
       "    <tr>\n",
       "      <th>2016-12-31 18:15:00</th>\n",
       "      <td>1.0515</td>\n",
       "      <td>NaN</td>\n",
       "    </tr>\n",
       "    <tr>\n",
       "      <th>2016-12-31 18:30:00</th>\n",
       "      <td>1.0515</td>\n",
       "      <td>NaN</td>\n",
       "    </tr>\n",
       "    <tr>\n",
       "      <th>2016-12-31 18:45:00</th>\n",
       "      <td>1.0515</td>\n",
       "      <td>NaN</td>\n",
       "    </tr>\n",
       "    <tr>\n",
       "      <th>2016-12-31 19:00:00</th>\n",
       "      <td>1.0515</td>\n",
       "      <td>NaN</td>\n",
       "    </tr>\n",
       "    <tr>\n",
       "      <th>2016-12-31 19:15:00</th>\n",
       "      <td>1.0515</td>\n",
       "      <td>NaN</td>\n",
       "    </tr>\n",
       "    <tr>\n",
       "      <th>2016-12-31 19:30:00</th>\n",
       "      <td>1.0515</td>\n",
       "      <td>NaN</td>\n",
       "    </tr>\n",
       "    <tr>\n",
       "      <th>2016-12-31 19:45:00</th>\n",
       "      <td>1.0515</td>\n",
       "      <td>NaN</td>\n",
       "    </tr>\n",
       "    <tr>\n",
       "      <th>2016-12-31 20:00:00</th>\n",
       "      <td>1.0515</td>\n",
       "      <td>NaN</td>\n",
       "    </tr>\n",
       "    <tr>\n",
       "      <th>2016-12-31 20:15:00</th>\n",
       "      <td>1.0515</td>\n",
       "      <td>NaN</td>\n",
       "    </tr>\n",
       "    <tr>\n",
       "      <th>2016-12-31 20:30:00</th>\n",
       "      <td>1.0515</td>\n",
       "      <td>NaN</td>\n",
       "    </tr>\n",
       "    <tr>\n",
       "      <th>2016-12-31 20:45:00</th>\n",
       "      <td>1.0515</td>\n",
       "      <td>NaN</td>\n",
       "    </tr>\n",
       "    <tr>\n",
       "      <th>2016-12-31 21:00:00</th>\n",
       "      <td>1.0515</td>\n",
       "      <td>NaN</td>\n",
       "    </tr>\n",
       "    <tr>\n",
       "      <th>2016-12-31 21:15:00</th>\n",
       "      <td>1.0515</td>\n",
       "      <td>NaN</td>\n",
       "    </tr>\n",
       "    <tr>\n",
       "      <th>2016-12-31 21:30:00</th>\n",
       "      <td>1.0515</td>\n",
       "      <td>NaN</td>\n",
       "    </tr>\n",
       "    <tr>\n",
       "      <th>2016-12-31 21:45:00</th>\n",
       "      <td>1.0515</td>\n",
       "      <td>NaN</td>\n",
       "    </tr>\n",
       "    <tr>\n",
       "      <th>2016-12-31 22:00:00</th>\n",
       "      <td>1.0515</td>\n",
       "      <td>NaN</td>\n",
       "    </tr>\n",
       "    <tr>\n",
       "      <th>2016-12-31 22:15:00</th>\n",
       "      <td>1.0515</td>\n",
       "      <td>NaN</td>\n",
       "    </tr>\n",
       "    <tr>\n",
       "      <th>2016-12-31 22:30:00</th>\n",
       "      <td>1.0515</td>\n",
       "      <td>NaN</td>\n",
       "    </tr>\n",
       "    <tr>\n",
       "      <th>2016-12-31 22:45:00</th>\n",
       "      <td>1.0515</td>\n",
       "      <td>NaN</td>\n",
       "    </tr>\n",
       "    <tr>\n",
       "      <th>2016-12-31 23:00:00</th>\n",
       "      <td>1.0515</td>\n",
       "      <td>NaN</td>\n",
       "    </tr>\n",
       "    <tr>\n",
       "      <th>2016-12-31 23:15:00</th>\n",
       "      <td>1.0515</td>\n",
       "      <td>NaN</td>\n",
       "    </tr>\n",
       "    <tr>\n",
       "      <th>2016-12-31 23:30:00</th>\n",
       "      <td>1.0515</td>\n",
       "      <td>NaN</td>\n",
       "    </tr>\n",
       "    <tr>\n",
       "      <th>2016-12-31 23:45:00</th>\n",
       "      <td>1.0515</td>\n",
       "      <td>NaN</td>\n",
       "    </tr>\n",
       "  </tbody>\n",
       "</table>\n",
       "</div>"
      ],
      "text/plain": [
       "                      Close  Prediction\n",
       "Time                                   \n",
       "2016-12-31 14:00:00  1.0515      1.0515\n",
       "2016-12-31 14:15:00  1.0515      1.0515\n",
       "2016-12-31 14:30:00  1.0515      1.0515\n",
       "2016-12-31 14:45:00  1.0515      1.0515\n",
       "2016-12-31 15:00:00  1.0515      1.0515\n",
       "2016-12-31 15:15:00  1.0515      1.0515\n",
       "2016-12-31 15:30:00  1.0515      1.0515\n",
       "2016-12-31 15:45:00  1.0515      1.0515\n",
       "2016-12-31 16:00:00  1.0515      1.0515\n",
       "2016-12-31 16:15:00  1.0515      1.0515\n",
       "2016-12-31 16:30:00  1.0515         NaN\n",
       "2016-12-31 16:45:00  1.0515         NaN\n",
       "2016-12-31 17:00:00  1.0515         NaN\n",
       "2016-12-31 17:15:00  1.0515         NaN\n",
       "2016-12-31 17:30:00  1.0515         NaN\n",
       "2016-12-31 17:45:00  1.0515         NaN\n",
       "2016-12-31 18:00:00  1.0515         NaN\n",
       "2016-12-31 18:15:00  1.0515         NaN\n",
       "2016-12-31 18:30:00  1.0515         NaN\n",
       "2016-12-31 18:45:00  1.0515         NaN\n",
       "2016-12-31 19:00:00  1.0515         NaN\n",
       "2016-12-31 19:15:00  1.0515         NaN\n",
       "2016-12-31 19:30:00  1.0515         NaN\n",
       "2016-12-31 19:45:00  1.0515         NaN\n",
       "2016-12-31 20:00:00  1.0515         NaN\n",
       "2016-12-31 20:15:00  1.0515         NaN\n",
       "2016-12-31 20:30:00  1.0515         NaN\n",
       "2016-12-31 20:45:00  1.0515         NaN\n",
       "2016-12-31 21:00:00  1.0515         NaN\n",
       "2016-12-31 21:15:00  1.0515         NaN\n",
       "2016-12-31 21:30:00  1.0515         NaN\n",
       "2016-12-31 21:45:00  1.0515         NaN\n",
       "2016-12-31 22:00:00  1.0515         NaN\n",
       "2016-12-31 22:15:00  1.0515         NaN\n",
       "2016-12-31 22:30:00  1.0515         NaN\n",
       "2016-12-31 22:45:00  1.0515         NaN\n",
       "2016-12-31 23:00:00  1.0515         NaN\n",
       "2016-12-31 23:15:00  1.0515         NaN\n",
       "2016-12-31 23:30:00  1.0515         NaN\n",
       "2016-12-31 23:45:00  1.0515         NaN"
      ]
     },
     "execution_count": 38,
     "metadata": {},
     "output_type": "execute_result"
    }
   ],
   "source": [
    "# A variable for predicting \n",
    "forecast_out = 30 \n",
    "#Create another column\n",
    "my_df['Prediction'] = my_df[['Close']].shift(-forecast_out)\n",
    "\n",
    "my_df.tail(40)\n"
   ]
  },
  {
   "cell_type": "markdown",
   "metadata": {},
   "source": [
    "# cleaning data"
   ]
  },
  {
   "cell_type": "code",
   "execution_count": 39,
   "metadata": {},
   "outputs": [],
   "source": [
    "#drop duplicated rows - if any\n",
    "my_df=my_df.drop_duplicates(keep='first')"
   ]
  },
  {
   "cell_type": "code",
   "execution_count": 41,
   "metadata": {},
   "outputs": [
    {
     "data": {
      "text/plain": [
       "(184031, 2)"
      ]
     },
     "execution_count": 41,
     "metadata": {},
     "output_type": "execute_result"
    }
   ],
   "source": [
    "my_df.shape"
   ]
  },
  {
   "cell_type": "markdown",
   "metadata": {},
   "source": [
    "# Create the independent data set (X) "
   ]
  },
  {
   "cell_type": "code",
   "execution_count": 43,
   "metadata": {},
   "outputs": [
    {
     "name": "stdout",
     "output_type": "stream",
     "text": [
      "[[1.43293]\n",
      " [1.43275]\n",
      " [1.43281]\n",
      " ...\n",
      " [1.05458]\n",
      " [1.05364]\n",
      " [1.05385]]\n"
     ]
    }
   ],
   "source": [
    "# Convert the dataframe to a numpy array\n",
    "X = np.array(my_df.drop(['Prediction'],1))\n",
    "\n",
    "#Remove the last NaN rows\n",
    "X = X[:-forecast_out]\n",
    "print(X)"
   ]
  },
  {
   "cell_type": "markdown",
   "metadata": {},
   "source": [
    "# Create the dependent data set (y)"
   ]
  },
  {
   "cell_type": "code",
   "execution_count": 44,
   "metadata": {},
   "outputs": [
    {
     "name": "stdout",
     "output_type": "stream",
     "text": [
      "[1.43328 1.43324 1.43266 ... 1.05156 1.0515  1.0515 ]\n"
     ]
    }
   ],
   "source": [
    "# Convert the dataframe to a numpy array\n",
    "y = np.array(my_df['Prediction'])\n",
    "\n",
    "y = y[:-forecast_out]\n",
    "print(y)"
   ]
  },
  {
   "cell_type": "markdown",
   "metadata": {},
   "source": [
    "# Split the data into 80% training and 20% testing"
   ]
  },
  {
   "cell_type": "code",
   "execution_count": 45,
   "metadata": {},
   "outputs": [],
   "source": [
    "x_train, x_test, y_train, y_test = train_test_split(X, y, test_size=0.2)"
   ]
  },
  {
   "cell_type": "markdown",
   "metadata": {},
   "source": [
    "# Create and train the Support Vector Machine (Regressor)\n"
   ]
  },
  {
   "cell_type": "code",
   "execution_count": 46,
   "metadata": {},
   "outputs": [
    {
     "data": {
      "text/plain": [
       "SVR(C=1000.0, cache_size=200, coef0=0.0, degree=3, epsilon=0.1, gamma=0.1,\n",
       "  kernel='rbf', max_iter=-1, shrinking=True, tol=0.001, verbose=False)"
      ]
     },
     "execution_count": 46,
     "metadata": {},
     "output_type": "execute_result"
    }
   ],
   "source": [
    "svr_rbf = SVR(kernel='rbf', C=1e3, gamma=0.1)\n",
    "svr_rbf.fit(x_train, y_train)"
   ]
  },
  {
   "cell_type": "markdown",
   "metadata": {},
   "source": [
    "# Testing Model: Score"
   ]
  },
  {
   "cell_type": "code",
   "execution_count": 47,
   "metadata": {},
   "outputs": [
    {
     "name": "stdout",
     "output_type": "stream",
     "text": [
      "svm confidence:  0.8355287004543515\n"
     ]
    }
   ],
   "source": [
    "svm_confidence = svr_rbf.score(x_test, y_test)\n",
    "print(\"svm confidence: \", svm_confidence)"
   ]
  },
  {
   "cell_type": "markdown",
   "metadata": {},
   "source": [
    "# Create and train the Linear Regression Model"
   ]
  },
  {
   "cell_type": "code",
   "execution_count": 48,
   "metadata": {},
   "outputs": [
    {
     "data": {
      "text/plain": [
       "LinearRegression(copy_X=True, fit_intercept=True, n_jobs=1, normalize=False)"
      ]
     },
     "execution_count": 48,
     "metadata": {},
     "output_type": "execute_result"
    }
   ],
   "source": [
    "lr = LinearRegression()\n",
    "# Train the model\n",
    "lr.fit(x_train, y_train)"
   ]
  },
  {
   "cell_type": "markdown",
   "metadata": {},
   "source": [
    "# Testing Model: Score\n"
   ]
  },
  {
   "cell_type": "code",
   "execution_count": 51,
   "metadata": {},
   "outputs": [
    {
     "name": "stdout",
     "output_type": "stream",
     "text": [
      "lr confidence:  0.9986017170565059\n"
     ]
    }
   ],
   "source": [
    "lr_confidence = lr.score(x_test, y_test)\n",
    "print(\"lr confidence: \", lr_confidence)"
   ]
  },
  {
   "cell_type": "code",
   "execution_count": 53,
   "metadata": {},
   "outputs": [
    {
     "name": "stdout",
     "output_type": "stream",
     "text": [
      "[[1.055  ]\n",
      " [1.05512]\n",
      " [1.05655]\n",
      " [1.05762]\n",
      " [1.05479]\n",
      " [1.05571]\n",
      " [1.05564]\n",
      " [1.05573]\n",
      " [1.05518]\n",
      " [1.05499]\n",
      " [1.0538 ]\n",
      " [1.05354]\n",
      " [1.05462]\n",
      " [1.05336]\n",
      " [1.05285]\n",
      " [1.05307]\n",
      " [1.05271]\n",
      " [1.05264]\n",
      " [1.0525 ]\n",
      " [1.05286]\n",
      " [1.05343]\n",
      " [1.05318]\n",
      " [1.05299]\n",
      " [1.05361]\n",
      " [1.05247]\n",
      " [1.0518 ]\n",
      " [1.05191]\n",
      " [1.05156]\n",
      " [1.0515 ]\n",
      " [1.0515 ]]\n"
     ]
    }
   ],
   "source": [
    "# Set x_forecast equal to the last 30 rows of the original data set from Close column\n",
    "x_forecast = np.array(my_df.drop(['Prediction'],1))[-forecast_out:]\n",
    "print(x_forecast)"
   ]
  },
  {
   "cell_type": "code",
   "execution_count": 54,
   "metadata": {
    "scrolled": true
   },
   "outputs": [
    {
     "name": "stdout",
     "output_type": "stream",
     "text": [
      "[1.05505119 1.05517113 1.05660046 1.05766997 1.05484128 1.05576085\n",
      " 1.05569089 1.05578085 1.0552311  1.05504119 1.05385174 1.05359186\n",
      " 1.05467136 1.05341195 1.05290219 1.05312208 1.05276225 1.05269228\n",
      " 1.05255235 1.05291218 1.05348192 1.05323203 1.05304212 1.05366183\n",
      " 1.05252236 1.05185267 1.05196262 1.05161279 1.05155281 1.05155281]\n",
      "[1.14020307 1.14027375 1.14111615 1.14174658 1.14007938 1.1406213\n",
      " 1.14058006 1.14063308 1.1403091  1.14019718 1.13949629 1.13934317\n",
      " 1.13997924 1.13923716 1.13893683 1.13906638 1.13885439 1.13881317\n",
      " 1.13873073 1.13894272 1.13927839 1.13913116 1.13901927 1.13938439\n",
      " 1.13871307 1.13831856 1.13838333 1.13817725 1.13814193 1.13814193]\n"
     ]
    }
   ],
   "source": [
    "# Print linear regression model predictions for the next 'n' days\n",
    "lr_prediction = lr.predict(x_forecast)\n",
    "print(lr_prediction)\n",
    "\n",
    "# Print support vector regressor model predictions for the next 'n' days\n",
    "svm_prediction = svr_rbf.predict(x_forecast)\n",
    "print(svm_prediction)"
   ]
  },
  {
   "cell_type": "code",
   "execution_count": null,
   "metadata": {},
   "outputs": [],
   "source": []
  }
 ],
 "metadata": {
  "kernelspec": {
   "display_name": "Python 3",
   "language": "python",
   "name": "python3"
  },
  "language_info": {
   "codemirror_mode": {
    "name": "ipython",
    "version": 3
   },
   "file_extension": ".py",
   "mimetype": "text/x-python",
   "name": "python",
   "nbconvert_exporter": "python",
   "pygments_lexer": "ipython3",
   "version": "3.6.4"
  }
 },
 "nbformat": 4,
 "nbformat_minor": 2
}
